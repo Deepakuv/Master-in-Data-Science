{
 "cells": [
  {
   "cell_type": "markdown",
   "metadata": {},
   "source": [
    "## Machine Learning\n",
    "Machine learning is  the most popular technique of predictiong the future or classifying information to help people in making necessary decisionns."
   ]
  },
  {
   "cell_type": "markdown",
   "metadata": {},
   "source": [
    "### Scales of Measurement\n",
    "In general, variables can be measured on four different scales. Mean, median, and\n",
    "mode are the way to understand the central tendency, that is, the middle point of data\n",
    "distribution. Standard deviation, variance, and range are the most commonly used\n",
    "dispersion measures used to understand the spread of the data."
   ]
  },
  {
   "cell_type": "markdown",
   "metadata": {},
   "source": [
    "#### Nominal Scale of Measurement\n",
    "Data are measured at the nominal level when each case is classified into one of a number\n",
    "of discrete categories. This is also called categorical, that is, used only for classification.\n",
    "As mean is not meaningful, all that we can do is to count the number of occurrences\n",
    "of each type and compute the proportion (number of occurrences of each type / total\n",
    "occurrences)."
   ]
  },
  {
   "attachments": {},
   "cell_type": "markdown",
   "metadata": {},
   "source": [
    "![nominal.png](data/nominal.png)"
   ]
  },
  {
   "cell_type": "markdown",
   "metadata": {},
   "source": [
    "#### Ordinal Scale of Measurement\n",
    "Data are measured on an ordinal scale if the categories imply order. The difference\n",
    "between ranks is consistent in direction and authority, but not magnitude."
   ]
  },
  {
   "cell_type": "markdown",
   "metadata": {},
   "source": [
    "#### Interval Scale of Measurement\n",
    "If the differences between values have meanings, the data are measured at the interval\n",
    "scale."
   ]
  },
  {
   "attachments": {},
   "cell_type": "markdown",
   "metadata": {},
   "source": [
    "![interval.png](data/interval.png)"
   ]
  },
  {
   "cell_type": "markdown",
   "metadata": {},
   "source": [
    "#### Ratio Scale of Measurement\n",
    "Data measured on a ratio scale have differences that are meaningful, and relate to some\n",
    "true zero point. This is the most common scale of measurement."
   ]
  },
  {
   "cell_type": "markdown",
   "metadata": {},
   "source": [
    "![ratio.png](data/ratio.png)"
   ]
  },
  {
   "cell_type": "markdown",
   "metadata": {},
   "source": [
    "### Comparison of the different scales of measurement"
   ]
  },
  {
   "cell_type": "markdown",
   "metadata": {},
   "source": [
    "![comp.png](data/comp.png)"
   ]
  },
  {
   "cell_type": "markdown",
   "metadata": {},
   "source": [
    "### Feature Engineering\n",
    "The output or the prediction quality of any machine learning algorithm depends\n",
    "predominantly on the quality of input being passed. The process of creating appropriate\n",
    "data features by applying business context is called feature engineering."
   ]
  },
  {
   "cell_type": "markdown",
   "metadata": {},
   "source": [
    "![feature.png](data/feature.png)"
   ]
  },
  {
   "cell_type": "markdown",
   "metadata": {},
   "source": [
    "### Dealing with Missing Data\n",
    "Missing data can mislead or create problems for analyzing the data. In order to avoid\n",
    "any such issues, you need to impute missing data. There are four most commonly used\n",
    "techniques for data imputation.\n",
    "\n",
    "1.Delete\n",
    "\n",
    "2.Replace with summary\n",
    "\n",
    "3.Random replace\n",
    "\n",
    "4.Using predictive model`\n"
   ]
  },
  {
   "cell_type": "markdown",
   "metadata": {},
   "source": [
    "## Handling Categorical Data\n",
    "Most of the machine’s learning libraries are designed to work well with numerical\n",
    "variables."
   ]
  },
  {
   "cell_type": "markdown",
   "metadata": {},
   "source": [
    "### Create dummy variable:\n",
    "This is a Boolean variable that indicates the presence of\n",
    "a category with the value 1 and 0 for absence."
   ]
  },
  {
   "cell_type": "markdown",
   "metadata": {},
   "source": [
    "#### Creating dummy variables"
   ]
  },
  {
   "cell_type": "code",
   "execution_count": 1,
   "metadata": {},
   "outputs": [
    {
     "data": {
      "text/html": [
       "<div>\n",
       "<style scoped>\n",
       "    .dataframe tbody tr th:only-of-type {\n",
       "        vertical-align: middle;\n",
       "    }\n",
       "\n",
       "    .dataframe tbody tr th {\n",
       "        vertical-align: top;\n",
       "    }\n",
       "\n",
       "    .dataframe thead th {\n",
       "        text-align: right;\n",
       "    }\n",
       "</style>\n",
       "<table border=\"1\" class=\"dataframe\">\n",
       "  <thead>\n",
       "    <tr style=\"text-align: right;\">\n",
       "      <th></th>\n",
       "      <th>A</th>\n",
       "      <th>B</th>\n",
       "    </tr>\n",
       "  </thead>\n",
       "  <tbody>\n",
       "    <tr>\n",
       "      <td>0</td>\n",
       "      <td>high</td>\n",
       "      <td>10</td>\n",
       "    </tr>\n",
       "    <tr>\n",
       "      <td>1</td>\n",
       "      <td>medium</td>\n",
       "      <td>20</td>\n",
       "    </tr>\n",
       "    <tr>\n",
       "      <td>2</td>\n",
       "      <td>low</td>\n",
       "      <td>30</td>\n",
       "    </tr>\n",
       "  </tbody>\n",
       "</table>\n",
       "</div>"
      ],
      "text/plain": [
       "        A   B\n",
       "0    high  10\n",
       "1  medium  20\n",
       "2     low  30"
      ]
     },
     "execution_count": 1,
     "metadata": {},
     "output_type": "execute_result"
    }
   ],
   "source": [
    "import pandas as pd\n",
    "from patsy import dmatrices\n",
    "df = pd.DataFrame({'A': ['high', 'medium', 'low'],\n",
    "'B': [10,20,30]},\n",
    "index=[0, 1, 2])\n",
    "df"
   ]
  },
  {
   "cell_type": "code",
   "execution_count": 2,
   "metadata": {},
   "outputs": [
    {
     "name": "stdout",
     "output_type": "stream",
     "text": [
      "    B  A_high  A_low  A_medium\n",
      "0  10       1      0         0\n",
      "1  20       0      0         1\n",
      "2  30       0      1         0\n"
     ]
    }
   ],
   "source": [
    "# using get_dummies function of pandas package\n",
    "df_with_dummies= pd.get_dummies(df, prefix='A', columns=['A'])\n",
    "print (df_with_dummies)"
   ]
  },
  {
   "cell_type": "markdown",
   "metadata": {},
   "source": [
    "### Convert to number: \n",
    "Another simple method is to represent the text description\n",
    "of each level with a number by using the ‘Label Encoder’ function of Scikit-learn. If the\n",
    "number of levels are high (example zip code, state, etc.), then you apply the business logic\n",
    "to combine levels to groups."
   ]
  },
  {
   "cell_type": "markdown",
   "metadata": {},
   "source": [
    "#### Converting categorical variable to numerics"
   ]
  },
  {
   "cell_type": "code",
   "execution_count": 3,
   "metadata": {},
   "outputs": [
    {
     "name": "stdout",
     "output_type": "stream",
     "text": [
      "        A   B  A_pd_factorized  A_LabelEncoded\n",
      "0    high  10                0               0\n",
      "1  medium  20                1               2\n",
      "2     low  30                2               1\n"
     ]
    }
   ],
   "source": [
    "# using pandas package's factorize function\n",
    "df['A_pd_factorized'] = pd.factorize(df['A'])[0]\n",
    "\n",
    "# Alternatively you can use sklearn package's LabelEncoder function\n",
    "from sklearn.preprocessing import LabelEncoder\n",
    "le = LabelEncoder()\n",
    "df['A_LabelEncoded'] = le.fit_transform(df.A)\n",
    "print (df)"
   ]
  },
  {
   "cell_type": "markdown",
   "metadata": {},
   "source": [
    "## Normalizing Data\n",
    "Normalizing data can be achieved by Min-Max scaling; the formula is given below,\n",
    "which will scale all numeric values in the range 0 to 1"
   ]
  },
  {
   "cell_type": "markdown",
   "metadata": {},
   "source": [
    "![normalized.png](data/normalized.png)"
   ]
  },
  {
   "cell_type": "markdown",
   "metadata": {},
   "source": [
    "The standardization technique will transform the variables to have a zero mean\n",
    "and standard deviation of one. The formula for standardization is given below and the\n",
    "outcome is commonly known as z-scores."
   ]
  },
  {
   "cell_type": "markdown",
   "metadata": {},
   "source": [
    "![norma1.png](data/norma1.png)\n",
    "\n",
    "Where μ is the mean and σ is the standard deviation."
   ]
  },
  {
   "cell_type": "markdown",
   "metadata": {},
   "source": [
    "#### Normalization and scaling"
   ]
  },
  {
   "cell_type": "code",
   "execution_count": 4,
   "metadata": {},
   "outputs": [
    {
     "name": "stdout",
     "output_type": "stream",
     "text": [
      "Mean before standardization: petal length=3.8, petal width=1.2\n",
      "SD before standardization: petal length=1.8, petal width=0.8\n",
      "Mean after standardization: petal length=-0.0, petal width=-0.0\n",
      "SD after standardization: petal length=1.0, petal width=1.0\n",
      "\n",
      "Min value before min-max scaling: patel length=1.0, patel width=0.1\n",
      "Max value before min-max scaling: petal length=6.9, petal width=2.5\n",
      "Min value after min-max scaling: patel length=0.0, patel width=0.0\n",
      "Max value after min-max scaling: petal length=1.0, petal width=1.0\n"
     ]
    }
   ],
   "source": [
    "from sklearn import datasets\n",
    "import numpy as np\n",
    "from sklearn import preprocessing\n",
    "\n",
    "iris = datasets.load_iris()\n",
    "X = iris.data[:, [2, 3]]\n",
    "y = iris.target\n",
    "\n",
    "std_scale = preprocessing.StandardScaler().fit(X)\n",
    "X_std = std_scale.transform(X)\n",
    "\n",
    "minmax_scale = preprocessing.MinMaxScaler().fit(X)\n",
    "X_minmax = minmax_scale.transform(X)\n",
    "\n",
    "print('Mean before standardization: petal length={:.1f}, petal width={:.1f}' .format(X[:,0].mean(), X[:,1].mean()))\n",
    "\n",
    "print('SD before standardization: petal length={:.1f}, petal width={:.1f}' .format(X[:,0].std(), X[:,1].std()))\n",
    "\n",
    "print('Mean after standardization: petal length={:.1f}, petal width={:.1f}' .format(X_std[:,0].mean(), X_std[:,1].mean()))\n",
    "\n",
    "print('SD after standardization: petal length={:.1f}, petal width={:.1f}' .format(X_std[:,0].std(), X_std[:,1].std()))\n",
    "\n",
    "print('\\nMin value before min-max scaling: patel length={:.1f}, patel width={:.1f}' .format(X[:,0].min(), X[:,1].min()))\n",
    "\n",
    "print('Max value before min-max scaling: petal length={:.1f}, petal width={:.1f}' .format(X[:,0].max(), X[:,1].max()))\n",
    "\n",
    "print('Min value after min-max scaling: patel length={:.1f}, patel width={:.1f}' .format(X_minmax[:,0].min(), X_minmax[:,1].min()))\n",
    "\n",
    "print('Max value after min-max scaling: petal length={:.1f}, petal width={:.1f}' .format(X_minmax[:,0].max(), X_minmax[:,1].max()))"
   ]
  },
  {
   "cell_type": "markdown",
   "metadata": {},
   "source": [
    "## Exploratory Data Analysis (EDA)\n",
    "EDA is all about understanding your data by employing summarizing and visualizing\n",
    "techniques. At a high level the EDA can be performed in two folds, that is, univariate\n",
    "analysis and multivariate analysis."
   ]
  },
  {
   "cell_type": "markdown",
   "metadata": {},
   "source": [
    "#### Univariate Analysis\n",
    "Individual variables are analyzed in isolation to have a better understanding about them.\n",
    "Pandas provide the describe function to create summary statistics in tabular format for all\n",
    "variables. These statistics are very useful for numerical types of variables to understand\n",
    "any quality issues such as missing values and the presence of outliers."
   ]
  },
  {
   "cell_type": "markdown",
   "metadata": {},
   "source": [
    "#### Univariate analysis"
   ]
  },
  {
   "cell_type": "code",
   "execution_count": 5,
   "metadata": {},
   "outputs": [
    {
     "data": {
      "text/html": [
       "<div>\n",
       "<style scoped>\n",
       "    .dataframe tbody tr th:only-of-type {\n",
       "        vertical-align: middle;\n",
       "    }\n",
       "\n",
       "    .dataframe tbody tr th {\n",
       "        vertical-align: top;\n",
       "    }\n",
       "\n",
       "    .dataframe thead th {\n",
       "        text-align: right;\n",
       "    }\n",
       "</style>\n",
       "<table border=\"1\" class=\"dataframe\">\n",
       "  <thead>\n",
       "    <tr style=\"text-align: right;\">\n",
       "      <th></th>\n",
       "      <th>sepallength(cm)</th>\n",
       "      <th>sepalwidth(cm)</th>\n",
       "      <th>petallength(cm)</th>\n",
       "      <th>petalwidth(cm)</th>\n",
       "    </tr>\n",
       "  </thead>\n",
       "  <tbody>\n",
       "    <tr>\n",
       "      <td>count</td>\n",
       "      <td>150.000000</td>\n",
       "      <td>150.000000</td>\n",
       "      <td>150.000000</td>\n",
       "      <td>150.000000</td>\n",
       "    </tr>\n",
       "    <tr>\n",
       "      <td>mean</td>\n",
       "      <td>5.843333</td>\n",
       "      <td>3.057333</td>\n",
       "      <td>3.758000</td>\n",
       "      <td>1.199333</td>\n",
       "    </tr>\n",
       "    <tr>\n",
       "      <td>std</td>\n",
       "      <td>0.828066</td>\n",
       "      <td>0.435866</td>\n",
       "      <td>1.765298</td>\n",
       "      <td>0.762238</td>\n",
       "    </tr>\n",
       "    <tr>\n",
       "      <td>min</td>\n",
       "      <td>4.300000</td>\n",
       "      <td>2.000000</td>\n",
       "      <td>1.000000</td>\n",
       "      <td>0.100000</td>\n",
       "    </tr>\n",
       "    <tr>\n",
       "      <td>25%</td>\n",
       "      <td>5.100000</td>\n",
       "      <td>2.800000</td>\n",
       "      <td>1.600000</td>\n",
       "      <td>0.300000</td>\n",
       "    </tr>\n",
       "    <tr>\n",
       "      <td>50%</td>\n",
       "      <td>5.800000</td>\n",
       "      <td>3.000000</td>\n",
       "      <td>4.350000</td>\n",
       "      <td>1.300000</td>\n",
       "    </tr>\n",
       "    <tr>\n",
       "      <td>75%</td>\n",
       "      <td>6.400000</td>\n",
       "      <td>3.300000</td>\n",
       "      <td>5.100000</td>\n",
       "      <td>1.800000</td>\n",
       "    </tr>\n",
       "    <tr>\n",
       "      <td>max</td>\n",
       "      <td>7.900000</td>\n",
       "      <td>4.400000</td>\n",
       "      <td>6.900000</td>\n",
       "      <td>2.500000</td>\n",
       "    </tr>\n",
       "  </tbody>\n",
       "</table>\n",
       "</div>"
      ],
      "text/plain": [
       "       sepallength(cm)  sepalwidth(cm)  petallength(cm)  petalwidth(cm)\n",
       "count       150.000000      150.000000       150.000000      150.000000\n",
       "mean          5.843333        3.057333         3.758000        1.199333\n",
       "std           0.828066        0.435866         1.765298        0.762238\n",
       "min           4.300000        2.000000         1.000000        0.100000\n",
       "25%           5.100000        2.800000         1.600000        0.300000\n",
       "50%           5.800000        3.000000         4.350000        1.300000\n",
       "75%           6.400000        3.300000         5.100000        1.800000\n",
       "max           7.900000        4.400000         6.900000        2.500000"
      ]
     },
     "execution_count": 5,
     "metadata": {},
     "output_type": "execute_result"
    }
   ],
   "source": [
    "from sklearn import datasets\n",
    "import numpy as np\n",
    "import pandas as pd\n",
    "import matplotlib.pyplot as plt\n",
    "iris = datasets.load_iris()\n",
    "\n",
    "# Let's convert to dataframe\n",
    "iris = pd.DataFrame(data= np.c_[iris['data'], iris['target']],\n",
    "columns= iris['feature_names'] + ['species'])\n",
    "\n",
    "# replace the values with class labels\n",
    "iris.species = np.where(iris.species == 0.0, 'setosa', np.where(iris.\n",
    "species==1.0,'versicolor', 'virginica'))\n",
    "\n",
    "# let's remove spaces from column name\n",
    "iris.columns = iris.columns.str.replace(' ','')\n",
    "iris.describe()"
   ]
  },
  {
   "cell_type": "code",
   "execution_count": 6,
   "metadata": {},
   "outputs": [
    {
     "name": "stdout",
     "output_type": "stream",
     "text": [
      "versicolor    50\n",
      "virginica     50\n",
      "setosa        50\n",
      "Name: species, dtype: int64\n"
     ]
    }
   ],
   "source": [
    "print (iris['species'].value_counts())"
   ]
  },
  {
   "cell_type": "markdown",
   "metadata": {},
   "source": [
    "#### Pandas dataframe visualization"
   ]
  },
  {
   "cell_type": "code",
   "execution_count": 7,
   "metadata": {},
   "outputs": [
    {
     "data": {
      "image/png": "[encoded data removed]",
      "text/plain": [
       "<Figure size 432x288 with 4 Axes>"
      ]
     },
     "metadata": {
      "needs_background": "light"
     },
     "output_type": "display_data"
    }
   ],
   "source": [
    "# Set the size of the plot\n",
    "#plt.figsize(15, 8)\n",
    "iris.hist() # plot histogram\n",
    "plt.suptitle(\"Histogram\", fontsize=16) # use suptitle to add title to all sublots\n",
    "plt.show()"
   ]
  },
  {
   "cell_type": "code",
   "execution_count": 8,
   "metadata": {},
   "outputs": [
    {
     "data": {
      "image/png": "[encoded data removed]",
      "text/plain": [
       "<Figure size 432x288 with 1 Axes>"
      ]
     },
     "metadata": {
      "needs_background": "light"
     },
     "output_type": "display_data"
    }
   ],
   "source": [
    "iris.boxplot() # plot boxplot\n",
    "plt.title(\"Bar Plot\", fontsize=16)\n",
    "plt.show()"
   ]
  },
  {
   "cell_type": "markdown",
   "metadata": {},
   "source": [
    "### Multivariate Analysis\n",
    "In multivariate analysis you try to establish a sense of relationship of all variables with\n",
    "one other."
   ]
  },
  {
   "cell_type": "markdown",
   "metadata": {},
   "source": [
    "#### Multivariate analysis"
   ]
  },
  {
   "cell_type": "code",
   "execution_count": 9,
   "metadata": {},
   "outputs": [
    {
     "data": {
      "text/plain": [
       "<matplotlib.legend.Legend at 0x1cdb0697688>"
      ]
     },
     "execution_count": 9,
     "metadata": {},
     "output_type": "execute_result"
    },
    {
     "data": {
      "image/png": "[encoded data removed]",
      "text/plain": [
       "<Figure size 432x288 with 1 Axes>"
      ]
     },
     "metadata": {
      "needs_background": "light"
     },
     "output_type": "display_data"
    }
   ],
   "source": [
    "# print the mean for each column by species\n",
    "iris.groupby(by = \"species\").mean()\n",
    "\n",
    "# plot for mean of each feature for each label class\n",
    "iris.groupby(by = \"species\").mean().plot(kind=\"bar\")\n",
    "plt.title('Class vs Measurements')\n",
    "plt.ylabel('mean measurement(cm)')\n",
    "plt.xticks(rotation=0) # manage the xticks rotation\n",
    "plt.grid(True)\n",
    "\n",
    "# Use bbox_to_anchor option to place the legend outside plot area to be tidy\n",
    "plt.legend(loc=\"upper left\", bbox_to_anchor=(1,1))"
   ]
  },
  {
   "cell_type": "markdown",
   "metadata": {},
   "source": [
    "### Correlation Matrix\n",
    "The correlation function uses Pearson correlation coefficient, which results in a number\n",
    "between -1 to 1."
   ]
  },
  {
   "cell_type": "markdown",
   "metadata": {},
   "source": [
    "#### Correlation matrix"
   ]
  },
  {
   "cell_type": "code",
   "execution_count": 11,
   "metadata": {},
   "outputs": [
    {
     "name": "stdout",
     "output_type": "stream",
     "text": [
      "                 sepallength(cm)  sepalwidth(cm)  petallength(cm)  \\\n",
      "sepallength(cm)         1.000000       -0.117570         0.871754   \n",
      "sepalwidth(cm)         -0.117570        1.000000        -0.428440   \n",
      "petallength(cm)         0.871754       -0.428440         1.000000   \n",
      "petalwidth(cm)          0.817941       -0.366126         0.962865   \n",
      "\n",
      "                 petalwidth(cm)  \n",
      "sepallength(cm)        0.817941  \n",
      "sepalwidth(cm)        -0.366126  \n",
      "petallength(cm)        0.962865  \n",
      "petalwidth(cm)         1.000000  \n"
     ]
    },
    {
     "data": {
      "image/png": "[encoded data removed]",
      "text/plain": [
       "<Figure size 432x288 with 2 Axes>"
      ]
     },
     "metadata": {
      "needs_background": "light"
     },
     "output_type": "display_data"
    }
   ],
   "source": [
    "# create correlation matrix\n",
    "corr = iris.corr()\n",
    "print(corr)\n",
    "import statsmodels.api as sm\n",
    "sm.graphics.plot_corr(corr, xnames=list(corr.columns))\n",
    "plt.show()"
   ]
  },
  {
   "cell_type": "markdown",
   "metadata": {},
   "source": [
    "### Feature Construction or Generation\n",
    "Machine learning algorithms give best results only when we provide it the best possible\n",
    "features that structure the underlying form of the problem that you are trying to address.\n",
    "Often these features have to be manually created by spending a lot of time with actual raw\n",
    "data and trying to understand its relationship with all other data that you have collected\n",
    "to address a business problem."
   ]
  }
 ],
 "metadata": {
  "kernelspec": {
   "display_name": "Python 3",
   "language": "python",
   "name": "python3"
  },
  "language_info": {
   "codemirror_mode": {
    "name": "ipython",
    "version": 3
   },
   "file_extension": ".py",
   "mimetype": "text/x-python",
   "name": "python",
   "nbconvert_exporter": "python",
   "pygments_lexer": "ipython3",
   "version": "3.7.4"
  }
 },
 "nbformat": 4,
 "nbformat_minor": 2
}
