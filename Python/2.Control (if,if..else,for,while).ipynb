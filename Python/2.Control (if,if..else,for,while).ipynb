{
 "cells": [
  {
   "cell_type": "markdown",
   "metadata": {},
   "source": [
    "### Control Structure"
   ]
  },
  {
   "cell_type": "markdown",
   "metadata": {},
   "source": [
    "A control structure is the fundamental choice or decision-making process in programming. It is a chunk of code that analyzes values of variables and decides a direction to go based on a given condition."
   ]
  },
  {
   "cell_type": "markdown",
   "metadata": {},
   "source": [
    "##### In Python there are mainly two types of control structures: \n",
    "(1) Selection \n",
    "\n",
    "(2) Iteration"
   ]
  },
  {
   "cell_type": "markdown",
   "metadata": {},
   "source": [
    "### Selection"
   ]
  },
  {
   "cell_type": "markdown",
   "metadata": {},
   "source": [
    "Selection statements allow programmers to check a condition and based on the result\n",
    "will perform different actions."
   ]
  },
  {
   "cell_type": "markdown",
   "metadata": {},
   "source": [
    "##### There are two versions of this useful construct:\n",
    "\n",
    "(1) if\n",
    "\n",
    "(2) if…else"
   ]
  },
  {
   "cell_type": "markdown",
   "metadata": {},
   "source": [
    "#### 2-1. Example code for a simple ‘if’ statement"
   ]
  },
  {
   "cell_type": "code",
   "execution_count": 1,
   "metadata": {},
   "outputs": [
    {
     "name": "stdout",
     "output_type": "stream",
     "text": [
      "-1\n",
      "the value of var is negative\n",
      "the value of var is negative\n"
     ]
    }
   ],
   "source": [
    "var = -1\n",
    "if var < 0:\n",
    "    print (var)\n",
    "    print(\"the value of var is negative\")\n",
    "\n",
    "# If there is only a signle cluse then it may go on the same line as the header statement\n",
    "if ( var == -1 ) :\n",
    "    print (\"the value of var is negative\")"
   ]
  },
  {
   "cell_type": "markdown",
   "metadata": {},
   "source": [
    "#### 2-2. Example code for ‘if else’ statement"
   ]
  },
  {
   "cell_type": "code",
   "execution_count": 2,
   "metadata": {},
   "outputs": [
    {
     "name": "stdout",
     "output_type": "stream",
     "text": [
      "the value of var is positive\n",
      "1\n"
     ]
    }
   ],
   "source": [
    "var = 1\n",
    "if var < 0:\n",
    "    print (\"the value of var is negative\")\n",
    "    print (var)\n",
    "else:\n",
    "    print (\"the value of var is positive\")\n",
    "    print (var)"
   ]
  },
  {
   "cell_type": "markdown",
   "metadata": {},
   "source": [
    "#### 2-3. Example code for nested if else statements"
   ]
  },
  {
   "cell_type": "code",
   "execution_count": 3,
   "metadata": {},
   "outputs": [
    {
     "name": "stdout",
     "output_type": "stream",
     "text": [
      "B\n"
     ]
    }
   ],
   "source": [
    "score = 95\n",
    "if score >= 99:\n",
    "    print('A')\n",
    "elif score >=75:\n",
    "    print('B')\n",
    "elif score >= 60:\n",
    "    print('C')\n",
    "elif score >= 35:\n",
    "    print('D')\n",
    "else:\n",
    "    print('F')"
   ]
  },
  {
   "cell_type": "markdown",
   "metadata": {},
   "source": [
    "### Iteration"
   ]
  },
  {
   "cell_type": "markdown",
   "metadata": {},
   "source": [
    "A loop control statement enables us to execute a single or a set of programming\n",
    "statements multiple times until a given condition is satisfied."
   ]
  },
  {
   "cell_type": "markdown",
   "metadata": {},
   "source": [
    "###### Python provides two essential looping statements: \n",
    "(1) for \n",
    "\n",
    "(2) while statement"
   ]
  },
  {
   "cell_type": "markdown",
   "metadata": {},
   "source": [
    "### For loop: \n",
    "It allows us to execute code block for a specific number of times or against a\n",
    "specific condition until it is satisfied."
   ]
  },
  {
   "cell_type": "markdown",
   "metadata": {},
   "source": [
    "#### 2-4. Example codes for a ‘for loop’ statement"
   ]
  },
  {
   "cell_type": "code",
   "execution_count": 4,
   "metadata": {},
   "outputs": [
    {
     "name": "stdout",
     "output_type": "stream",
     "text": [
      "First Example\n",
      "item : 1\n",
      "item : 2\n",
      "item : 3\n",
      "item : 4\n",
      "item : 5\n",
      "Second Example\n",
      " First loop letter : A\n",
      " First loop letter : B\n",
      " First loop letter : C\n",
      "Third Example\n",
      " First loop letter : A\n",
      " First loop letter : B\n",
      " First loop letter : C\n",
      "Fourth Example\n",
      " item : 1\n",
      " item : 2\n",
      " item : 3\n",
      " item : 4\n",
      " item : 5\n",
      " looping over item complete!\n"
     ]
    }
   ],
   "source": [
    "# First Example\n",
    "print (\"First Example\")\n",
    "for item in [1,2,3,4,5]:\n",
    "    print ('item :', item)\n",
    "\n",
    "# Second Example\n",
    "print (\"Second Example\")\n",
    "letters = ['A', 'B', 'C']\n",
    "for letter in letters:\n",
    "    print (' First loop letter :', letter)\n",
    "\n",
    "# Third Example - Iterating by sequency index\n",
    "print (\"Third Example\")\n",
    "for index in range(len(letters)):\n",
    "    print (' First loop letter :', letters[index])\n",
    "\n",
    "# Fourth Example - Using else statement\n",
    "print (\"Fourth Example\")\n",
    "for item in [1,2,3,4,5]:\n",
    "    print (' item :', item)\n",
    "else:\n",
    "    print (' looping over item complete!')"
   ]
  },
  {
   "cell_type": "markdown",
   "metadata": {},
   "source": [
    "### While loop: \n",
    "The while statement repeats a set of code until the condition is true."
   ]
  },
  {
   "cell_type": "markdown",
   "metadata": {},
   "source": [
    "#### 2-5.Example code for while loop statement"
   ]
  },
  {
   "attachments": {},
   "cell_type": "markdown",
   "metadata": {},
   "source": [
    "![7.png](img/7.png)"
   ]
  },
  {
   "cell_type": "markdown",
   "metadata": {},
   "source": [
    "#### 2-6.Example code for a ‘while with a else’ statement"
   ]
  },
  {
   "cell_type": "markdown",
   "metadata": {},
   "source": [
    "An else statement can be used with a while loop and the else will be executed when\n",
    "the condition becomes false."
   ]
  },
  {
   "attachments": {},
   "cell_type": "markdown",
   "metadata": {},
   "source": [
    "![8.png](img/8.png)"
   ]
  }
 ],
 "metadata": {
  "kernelspec": {
   "display_name": "Python 3",
   "language": "python",
   "name": "python3"
  },
  "language_info": {
   "codemirror_mode": {
    "name": "ipython",
    "version": 3
   },
   "file_extension": ".py",
   "mimetype": "text/x-python",
   "name": "python",
   "nbconvert_exporter": "python",
   "pygments_lexer": "ipython3",
   "version": "3.7.4"
  }
 },
 "nbformat": 4,
 "nbformat_minor": 2
}
