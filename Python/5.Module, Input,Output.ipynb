{
 "cells": [
  {
   "cell_type": "markdown",
   "metadata": {},
   "source": [
    "### Module\n",
    "A module is a logically organized multiple independent but related set of codes\n",
    "or functions or classes. The key principle behind module creating is it’s easier to\n",
    "understand, use, and has efficient maintainability. You can import a module and the\n",
    "Python interpreter will search for the module in interest in the following sequences.\n",
    "\n",
    "1. Currently active directly, that is, the directory from which the\n",
    "Python your program is being called.\n",
    "2. If the module isn’t found in currently active directory,\n",
    "Python then searches each directory in the path variable\n",
    "PYTHONPATH. If this fails then it searches in the default\n",
    "package installation path.\n"
   ]
  },
  {
   "cell_type": "code",
   "execution_count": 1,
   "metadata": {},
   "outputs": [
    {
     "ename": "ModuleNotFoundError",
     "evalue": "No module named 'module_name'",
     "output_type": "error",
     "traceback": [
      "\u001b[1;31m---------------------------------------------------------------------------\u001b[0m",
      "\u001b[1;31mModuleNotFoundError\u001b[0m                       Traceback (most recent call last)",
      "\u001b[1;32m<ipython-input-1-97ebbbd5a5e2>\u001b[0m in \u001b[0;36m<module>\u001b[1;34m\u001b[0m\n\u001b[0;32m      1\u001b[0m \u001b[1;31m# Import all functions from a module\u001b[0m\u001b[1;33m\u001b[0m\u001b[1;33m\u001b[0m\u001b[1;33m\u001b[0m\u001b[0m\n\u001b[1;32m----> 2\u001b[1;33m \u001b[1;32mimport\u001b[0m \u001b[0mmodule_name\u001b[0m\u001b[1;33m\u001b[0m\u001b[1;33m\u001b[0m\u001b[0m\n\u001b[0m\u001b[0;32m      3\u001b[0m \u001b[1;32mfrom\u001b[0m \u001b[0mmodname\u001b[0m \u001b[1;32mimport\u001b[0m\u001b[1;33m*\u001b[0m\u001b[1;33m\u001b[0m\u001b[1;33m\u001b[0m\u001b[0m\n\u001b[0;32m      4\u001b[0m \u001b[1;33m\u001b[0m\u001b[0m\n\u001b[0;32m      5\u001b[0m \u001b[1;31m# Import specific function from module\u001b[0m\u001b[1;33m\u001b[0m\u001b[1;33m\u001b[0m\u001b[1;33m\u001b[0m\u001b[0m\n",
      "\u001b[1;31mModuleNotFoundError\u001b[0m: No module named 'module_name'"
     ]
    }
   ],
   "source": [
    "# Import all functions from a module\n",
    "import module_name \n",
    "from modname import*\n",
    "\n",
    "# Import specific function from module\n",
    "from module_name import function_name"
   ]
  },
  {
   "cell_type": "markdown",
   "metadata": {},
   "source": [
    "#### Example code dir() operation"
   ]
  },
  {
   "cell_type": "code",
   "execution_count": null,
   "metadata": {},
   "outputs": [],
   "source": [
    "Import os\n",
    "content = dir(os)\n",
    "\n",
    "print (content)"
   ]
  },
  {
   "cell_type": "markdown",
   "metadata": {},
   "source": [
    "### File Input/Output\n",
    "Python provides easy functions to read and write information to a file. To perform read or\n",
    "write operation on files we need to open them first. Once the required operation is complete,\n",
    "it needs to be closed so that all the resources tied to that file are freed.\n",
    "\n",
    "Below is the sequence of a file operation.\n",
    "\n",
    "• Open a file\n",
    "\n",
    "• Perform operations that are read or write\n",
    "\n",
    "• Close the file"
   ]
  },
  {
   "cell_type": "markdown",
   "metadata": {},
   "source": [
    "![15.png](img/15.png)"
   ]
  },
  {
   "cell_type": "markdown",
   "metadata": {},
   "source": [
    "![16.png](img/16.png)"
   ]
  },
  {
   "cell_type": "markdown",
   "metadata": {},
   "source": [
    "#### Example code for file operations"
   ]
  },
  {
   "cell_type": "code",
   "execution_count": null,
   "metadata": {},
   "outputs": [],
   "source": [
    "# Below code will create a file named vehicles and add the items. \\n is a newline character\n",
    "vehicles = ['scooter\\n', 'bike\\n', 'car\\n']\n",
    "f = open('vehicles.txt', 'w')\n",
    "f.writelines(vehicles)\n",
    "\n",
    "# Reading from file\n",
    "f = open('vechicles.txt')\n",
    "print (f.readlines())\n",
    "f.close()"
   ]
  },
  {
   "cell_type": "markdown",
   "metadata": {},
   "source": [
    "### Exception Handling\n",
    "Any error that happens while a Python program is being executed that will interrupt the\n",
    "expected flow of the program is called as exception. Your program should be designed to\n",
    "handle both expected and unexpected errors."
   ]
  },
  {
   "cell_type": "markdown",
   "metadata": {},
   "source": [
    "#### Example code for exception handling"
   ]
  },
  {
   "cell_type": "code",
   "execution_count": null,
   "metadata": {},
   "outputs": [],
   "source": [
    "try:\n",
    "    x = 1\n",
    "    y = 1\n",
    "    print (\"Result of x/y: \", x / y)\n",
    "except (ZeroDivisionError):\n",
    "    print(\"Can not divide by zero\")\n",
    "except (TypeError):\n",
    "    print(\"Wrong data type, division is allowed on numeric data type only\")\n",
    "except:\n",
    "    print (\"Unexpected error occurred\", '\\n', \"Error Type: \", sys.exc_info()[0], '\\n', \"Error Msg: \", sys.exc_info()[1])"
   ]
  },
  {
   "cell_type": "markdown",
   "metadata": {},
   "source": [
    "#### Example code for exception handling with file operations"
   ]
  },
  {
   "cell_type": "code",
   "execution_count": null,
   "metadata": {},
   "outputs": [],
   "source": [
    "# Below code will open a file and try to convert the content to integer\n",
    "try:\n",
    "    f = open('vechicles.txt')\n",
    "    print (f.readline())\n",
    "    i = int(s.strip())\n",
    "except IOError as e:\n",
    "    print (\"I/O error({0}): {1}\".format(e.errno, e.strerror))\n",
    "except ValueError:\n",
    "    print (\"Could not convert data to an integer.\")\n",
    "except:\n",
    "    print (\"Unexpected error occurred\", '\\n', \"Error Type: \", sys.exc_info()[0], '\\n', \"Error Msg: \", sys.exc_info()[1])\n",
    "finally:\n",
    "    f.close()\n",
    "    print (\"file has been closed\")"
   ]
  },
  {
   "cell_type": "markdown",
   "metadata": {},
   "source": [
    "![17.png](img/17.png)"
   ]
  }
 ],
 "metadata": {
  "kernelspec": {
   "display_name": "Python 3",
   "language": "python",
   "name": "python3"
  },
  "language_info": {
   "codemirror_mode": {
    "name": "ipython",
    "version": 3
   },
   "file_extension": ".py",
   "mimetype": "text/x-python",
   "name": "python",
   "nbconvert_exporter": "python",
   "pygments_lexer": "ipython3",
   "version": "3.7.4"
  }
 },
 "nbformat": 4,
 "nbformat_minor": 2
}
