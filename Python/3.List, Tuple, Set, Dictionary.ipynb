{
 "cells": [
  {
   "cell_type": "markdown",
   "metadata": {},
   "source": [
    "### When to Use List vs. Tuples vs. Set vs. Dictionary\n",
    "• List: Use when you need an ordered sequence of homogenous\n",
    "collections, whose values can be changed later in the program.\n",
    "\n",
    "• Tuple: Use when you need an ordered sequence of heterogeneous\n",
    "collections whose values need not be changed later in the\n",
    "program.\n",
    "\n",
    "• Set: It is ideal for use when you don’t have to store duplicates and\n",
    "you are not concerned about the order or the items. You just want\n",
    "to know whether a particular value already exists or not.\n",
    "\n",
    "• Dictionary: It is ideal for use when you need to relate values with\n",
    "keys, in order to look them up efficiently using a key."
   ]
  },
  {
   "cell_type": "markdown",
   "metadata": {},
   "source": [
    "### Lists\n",
    "Python’s lists are the most flexible data type. It can be created by writing a list of commaseparated\n",
    "values between square brackets. Note that that the items in the list need not be\n",
    "of the same data type."
   ]
  },
  {
   "cell_type": "markdown",
   "metadata": {},
   "source": [
    "![9.png](img/9.png)"
   ]
  },
  {
   "cell_type": "markdown",
   "metadata": {},
   "source": [
    "#### Example code for accessing lists"
   ]
  },
  {
   "cell_type": "code",
   "execution_count": 1,
   "metadata": {},
   "outputs": [
    {
     "name": "stdout",
     "output_type": "stream",
     "text": [
      "list_1[0]:  Statistics\n",
      "list2_[1:5]:  ['b', 1, 2, 3]\n"
     ]
    }
   ],
   "source": [
    "# Create lists\n",
    "list_1 = ['Statistics', 'Programming', 2016, 2017, 2018];\n",
    "list_2 = ['a', 'b', 1, 2, 3, 4, 5, 6, 7 ];\n",
    "\n",
    "# Accessing values in lists\n",
    "print (\"list_1[0]: \", list_1[0])\n",
    "print (\"list2_[1:5]: \", list_2[1:5])"
   ]
  },
  {
   "cell_type": "markdown",
   "metadata": {},
   "source": [
    "#### Example code for adding new values to lists"
   ]
  },
  {
   "cell_type": "code",
   "execution_count": 2,
   "metadata": {},
   "outputs": [
    {
     "name": "stdout",
     "output_type": "stream",
     "text": [
      "list_1 values:  ['Statistics', 'Programming', 2016, 2017, 2018]\n",
      "list_1 values post append:  ['Statistics', 'Programming', 2016, 2017, 2018, 2019]\n"
     ]
    }
   ],
   "source": [
    "print (\"list_1 values: \", list_1)\n",
    "\n",
    "# Adding new value to list\n",
    "list_1.append(2019)\n",
    "print (\"list_1 values post append: \", list_1)"
   ]
  },
  {
   "cell_type": "markdown",
   "metadata": {},
   "source": [
    "#### Example code for updating existing values of lists"
   ]
  },
  {
   "cell_type": "code",
   "execution_count": 3,
   "metadata": {},
   "outputs": [
    {
     "name": "stdout",
     "output_type": "stream",
     "text": [
      "Values of list_1:  ['Statistics', 'Programming', 2016, 2017, 2018, 2019]\n",
      "Index 2 value :  2016\n",
      "Index 2's new value :  2015\n"
     ]
    }
   ],
   "source": [
    "print (\"Values of list_1: \", list_1)\n",
    "\n",
    "# Updating existing value of list\n",
    "print (\"Index 2 value : \", list_1[2])\n",
    "list_1[2] = 2015;\n",
    "print (\"Index 2's new value : \", list_1[2])"
   ]
  },
  {
   "cell_type": "markdown",
   "metadata": {},
   "source": [
    "#### Example code for deleting a list element"
   ]
  },
  {
   "cell_type": "code",
   "execution_count": 4,
   "metadata": {},
   "outputs": [
    {
     "name": "stdout",
     "output_type": "stream",
     "text": [
      "list_1 values:  ['Statistics', 'Programming', 2015, 2017, 2018, 2019]\n",
      "After deleting value at index 2 :  ['Statistics', 'Programming', 2015, 2017, 2018]\n"
     ]
    }
   ],
   "source": [
    "print (\"list_1 values: \", list_1)\n",
    "\n",
    "# Deleting list element\n",
    "del list_1[5];\n",
    "print (\"After deleting value at index 2 : \", list_1)"
   ]
  },
  {
   "cell_type": "markdown",
   "metadata": {},
   "source": [
    "#### Example code for basic operations on lists"
   ]
  },
  {
   "cell_type": "code",
   "execution_count": 5,
   "metadata": {},
   "outputs": [
    {
     "name": "stdout",
     "output_type": "stream",
     "text": [
      "Length:  5\n",
      "Concatenation:  [1, 2, 3, 4, 5, 6]\n",
      "Repetition : ['Hello', 'Hello', 'Hello', 'Hello']\n",
      "Membership : True\n",
      "Iteration :\n",
      "1\n",
      "2\n",
      "3\n",
      "slicing : 2017\n",
      "slicing range:  ['Programming', 2015, 2017, 2018]\n",
      "Max of list:  5\n",
      "Min of list:  1\n",
      "Count number of 1 in list:  2\n",
      "Extended : ['Statistics', 'Programming', 2015, 2017, 2018, 'a', 'b', 1, 2, 3, 4, 5, 6, 7]\n",
      "['Statistics', 'Programming', 2015, 2017, 2018, 'a', 'b', 1, 2, 3, 4, 5, 6, 7]\n",
      "pop last item in list:  7\n",
      "pop the item with index 2:  2015\n",
      "removed b from list:  ['Statistics', 'Programming', 2017, 2018, 'a', 1, 2, 3, 4, 5, 6]\n",
      "Reverse:  [6, 5, 4, 3, 2, 1, 'a', 2018, 2017, 'Programming', 'Statistics']\n",
      "Sort ascending:  ['a', 'b', 'c']\n",
      "Sort descending:  ['c', 'b', 'a']\n"
     ]
    }
   ],
   "source": [
    "print (\"Length: \", len(list_1))\n",
    "print (\"Concatenation: \", [1,2,3] + [4, 5, 6])\n",
    "print (\"Repetition :\", ['Hello'] * 4)\n",
    "print (\"Membership :\", 3 in [1,2,3])\n",
    "print (\"Iteration :\")\n",
    "for x in [1,2,3]:\n",
    "    print (x)\n",
    "\n",
    "# Negative sign will count from the right\n",
    "print (\"slicing :\", list_1[-2])\n",
    "\n",
    "# If you dont specify the end explicitly, all elements from the specified start index will be printed\n",
    "print (\"slicing range: \", list_1[1:])\n",
    "\n",
    "# Comparing elements of lists\n",
    "#print (\"Compare two lists: \", cmp([1,2,4], [1,2,3]))\n",
    "\n",
    "print (\"Max of list: \", max([1,2,3,4,5]))\n",
    "print (\"Min of list: \", min([1,2,3,4,5]))\n",
    "print (\"Count number of 1 in list: \", [1,1,2,3,4,5,].count(1))\n",
    "\n",
    "list_1.extend(list_2)\n",
    "print (\"Extended :\", list_1)\n",
    "#print (\"Index for Programming : \", list_1.index( 'Programming'))\n",
    "\n",
    "print (list_1)\n",
    "print (\"pop last item in list: \", list_1.pop())\n",
    "print (\"pop the item with index 2: \", list_1.pop(2))\n",
    "\n",
    "list_1.remove('b')\n",
    "print (\"removed b from list: \", list_1)\n",
    "\n",
    "list_1.reverse()\n",
    "print (\"Reverse: \", list_1)\n",
    "\n",
    "list_1 = ['a', 'b','c']\n",
    "list_1.sort()\n",
    "print (\"Sort ascending: \", list_1)\n",
    "\n",
    "list_1.sort(reverse = True)\n",
    "print (\"Sort descending: \", list_1)"
   ]
  },
  {
   "cell_type": "markdown",
   "metadata": {},
   "source": [
    "### Tuple\n",
    "A Python tuple is a sequences or series of immutable Python objects very much similar to\n",
    "the lists. However there exist some essential differences between lists and tuples, which\n",
    "are the following.\n",
    "\n",
    "1. Unlike list, the objects of tuples cannot be changed.\n",
    "\n",
    "2. Tuples are defined by using parentheses, but lists are defined\n",
    "by square brackets."
   ]
  },
  {
   "cell_type": "markdown",
   "metadata": {},
   "source": [
    "![10.png](img/10.png)"
   ]
  },
  {
   "cell_type": "markdown",
   "metadata": {},
   "source": [
    "#### Example code for creating tuple"
   ]
  },
  {
   "cell_type": "code",
   "execution_count": 6,
   "metadata": {},
   "outputs": [
    {
     "name": "stdout",
     "output_type": "stream",
     "text": [
      "Empty Tuple:  ()\n",
      "Tuple with single item:  (1,)\n",
      "Sample Tuple : ('a', 'b', 'c', 'd', 1, 2, 3)\n"
     ]
    }
   ],
   "source": [
    "# Creating a tuple\n",
    "Tuple = ()\n",
    "print (\"Empty Tuple: \", Tuple)\n",
    "\n",
    "Tuple = (1,)\n",
    "print (\"Tuple with single item: \", Tuple)\n",
    "\n",
    "Tuple = ('a','b','c','d',1,2,3)\n",
    "print (\"Sample Tuple :\", Tuple)\n"
   ]
  },
  {
   "cell_type": "markdown",
   "metadata": {},
   "source": [
    "#### Example code for accessing tuple"
   ]
  },
  {
   "cell_type": "code",
   "execution_count": 7,
   "metadata": {},
   "outputs": [
    {
     "name": "stdout",
     "output_type": "stream",
     "text": [
      "3rd item of Tuple: c\n",
      "First 3 items of Tuple ('a', 'b')\n"
     ]
    }
   ],
   "source": [
    "# Accessing items in tuple\n",
    "Tuple = ('a', 'b', 'c', 'd', 1, 2, 3)\n",
    "print (\"3rd item of Tuple:\", Tuple[2])\n",
    "print (\"First 3 items of Tuple\", Tuple[0:2])"
   ]
  },
  {
   "cell_type": "markdown",
   "metadata": {},
   "source": [
    "#### Example code for deleting tuple"
   ]
  },
  {
   "cell_type": "code",
   "execution_count": 8,
   "metadata": {},
   "outputs": [
    {
     "name": "stdout",
     "output_type": "stream",
     "text": [
      "Sample Tuple:  ('a', 'b', 'c', 'd', 1, 2, 3)\n"
     ]
    },
    {
     "ename": "NameError",
     "evalue": "name 'Tuple' is not defined",
     "output_type": "error",
     "traceback": [
      "\u001b[1;31m---------------------------------------------------------------------------\u001b[0m",
      "\u001b[1;31mNameError\u001b[0m                                 Traceback (most recent call last)",
      "\u001b[1;32m<ipython-input-8-daf3c55563f2>\u001b[0m in \u001b[0;36m<module>\u001b[1;34m\u001b[0m\n\u001b[0;32m      4\u001b[0m \u001b[1;33m\u001b[0m\u001b[0m\n\u001b[0;32m      5\u001b[0m \u001b[1;32mdel\u001b[0m \u001b[0mTuple\u001b[0m\u001b[1;33m\u001b[0m\u001b[1;33m\u001b[0m\u001b[0m\n\u001b[1;32m----> 6\u001b[1;33m \u001b[0mprint\u001b[0m \u001b[1;33m(\u001b[0m\u001b[0mTuple\u001b[0m\u001b[1;33m)\u001b[0m \u001b[1;31m# Will throw an error message as the tuple does not exist\u001b[0m\u001b[1;33m\u001b[0m\u001b[1;33m\u001b[0m\u001b[0m\n\u001b[0m",
      "\u001b[1;31mNameError\u001b[0m: name 'Tuple' is not defined"
     ]
    }
   ],
   "source": [
    "# Deleting tuple\n",
    "Tuple = ('a', 'b', 'c', 'd', 1, 2, 3)\n",
    "print (\"Sample Tuple: \", Tuple)\n",
    "\n",
    "del Tuple\n",
    "print (Tuple) # Will throw an error message as the tuple does not exist"
   ]
  },
  {
   "cell_type": "markdown",
   "metadata": {},
   "source": [
    "#### Example code for basic operations on tupe (not exhaustive)"
   ]
  },
  {
   "cell_type": "code",
   "execution_count": 9,
   "metadata": {},
   "outputs": [
    {
     "name": "stdout",
     "output_type": "stream",
     "text": [
      "Length of Tuple:  7\n",
      "Concatinated Tuple:  ('a', 'b', 'c', 'd', 1, 2, 3, 7, 8, 9)\n",
      "Repetition:  (1, 'a', 2, 'b', 1, 'a', 2, 'b', 1, 'a', 2, 'b')\n",
      "Membership check:  True\n",
      "1\n",
      "Negative sign will retrieve item from right:  8\n",
      "Sliced Tuple [2:]  ('c', 'd', 1, 2, 3, 7, 8, 9)\n",
      "2\n",
      "Negative sign will retrieve item from right:  8\n",
      "Sliced Tuple [2:]  ('c', 'd', 1, 2, 3, 7, 8, 9)\n",
      "3\n",
      "Negative sign will retrieve item from right:  8\n",
      "Sliced Tuple [2:]  ('c', 'd', 1, 2, 3, 7, 8, 9)\n"
     ]
    },
    {
     "ename": "NameError",
     "evalue": "name 'cmp' is not defined",
     "output_type": "error",
     "traceback": [
      "\u001b[1;31m---------------------------------------------------------------------------\u001b[0m",
      "\u001b[1;31mNameError\u001b[0m                                 Traceback (most recent call last)",
      "\u001b[1;32m<ipython-input-9-e1fef4af822a>\u001b[0m in \u001b[0;36m<module>\u001b[1;34m\u001b[0m\n\u001b[0;32m     15\u001b[0m \u001b[1;33m\u001b[0m\u001b[0m\n\u001b[0;32m     16\u001b[0m \u001b[1;31m# Comparing two tuples\u001b[0m\u001b[1;33m\u001b[0m\u001b[1;33m\u001b[0m\u001b[1;33m\u001b[0m\u001b[0m\n\u001b[1;32m---> 17\u001b[1;33m \u001b[0mprint\u001b[0m \u001b[1;33m(\u001b[0m\u001b[1;34m\"Comparing tuples (1,2,3) and (1,2,3,4): \"\u001b[0m\u001b[1;33m,\u001b[0m \u001b[0mcmp\u001b[0m\u001b[1;33m(\u001b[0m\u001b[1;33m(\u001b[0m\u001b[1;36m1\u001b[0m\u001b[1;33m,\u001b[0m\u001b[1;36m2\u001b[0m\u001b[1;33m,\u001b[0m\u001b[1;36m3\u001b[0m\u001b[1;33m)\u001b[0m\u001b[1;33m,\u001b[0m \u001b[1;33m(\u001b[0m\u001b[1;36m1\u001b[0m\u001b[1;33m,\u001b[0m\u001b[1;36m2\u001b[0m\u001b[1;33m,\u001b[0m\u001b[1;36m3\u001b[0m\u001b[1;33m,\u001b[0m\u001b[1;36m4\u001b[0m\u001b[1;33m)\u001b[0m\u001b[1;33m)\u001b[0m\u001b[1;33m)\u001b[0m\u001b[1;33m\u001b[0m\u001b[1;33m\u001b[0m\u001b[0m\n\u001b[0m\u001b[0;32m     18\u001b[0m \u001b[0mprint\u001b[0m \u001b[1;33m(\u001b[0m\u001b[1;34m\"Comparing tuples (1,2,3,4) and (1,2,3): \"\u001b[0m\u001b[1;33m,\u001b[0m \u001b[0mcmp\u001b[0m\u001b[1;33m(\u001b[0m\u001b[1;33m(\u001b[0m\u001b[1;36m1\u001b[0m\u001b[1;33m,\u001b[0m\u001b[1;36m2\u001b[0m\u001b[1;33m,\u001b[0m\u001b[1;36m3\u001b[0m\u001b[1;33m,\u001b[0m\u001b[1;36m4\u001b[0m\u001b[1;33m)\u001b[0m\u001b[1;33m,\u001b[0m \u001b[1;33m(\u001b[0m\u001b[1;36m1\u001b[0m\u001b[1;33m,\u001b[0m\u001b[1;36m2\u001b[0m\u001b[1;33m,\u001b[0m\u001b[1;36m3\u001b[0m\u001b[1;33m)\u001b[0m\u001b[1;33m)\u001b[0m\u001b[1;33m)\u001b[0m\u001b[1;33m\u001b[0m\u001b[1;33m\u001b[0m\u001b[0m\n\u001b[0;32m     19\u001b[0m \u001b[1;33m\u001b[0m\u001b[0m\n",
      "\u001b[1;31mNameError\u001b[0m: name 'cmp' is not defined"
     ]
    }
   ],
   "source": [
    "# Basic Tuple operations\n",
    "Tuple = ('a','b','c','d',1,2,3)\n",
    "print (\"Length of Tuple: \", len(Tuple))\n",
    "\n",
    "Tuple_Concat = Tuple + (7,8,9)\n",
    "print (\"Concatinated Tuple: \", Tuple_Concat)\n",
    "print (\"Repetition: \", (1, 'a',2, 'b') * 3)\n",
    "print (\"Membership check: \", 3 in (1,2,3))\n",
    "\n",
    "# Iteration\n",
    "for x in (1, 2, 3): \n",
    "    print (x)\n",
    "    print (\"Negative sign will retrieve item from right: \", Tuple_Concat[-2])\n",
    "    print (\"Sliced Tuple [2:] \", Tuple_Concat[2:])\n",
    "\n",
    "# Comparing two tuples\n",
    "print (\"Comparing tuples (1,2,3) and (1,2,3,4): \", cmp((1,2,3), (1,2,3,4)))\n",
    "print (\"Comparing tuples (1,2,3,4) and (1,2,3): \", cmp((1,2,3,4), (1,2,3)))\n",
    "\n",
    "# Find max\n",
    "print (\"Max of the Tuple (1,2,3,4,5,6,7,8,9,10): \",max((1,2,3,4,5,6,7,8,9,10)))\n",
    "print (\"Min of the Tuple (1,2,3,4,5,6,7,8,9,10): \",min((1,2,3,4,5,6,7,8,9,10)))\n",
    "print (\"List [1,2,3,4] converted to tuple: \", type(tuple([1,2,3,4])))"
   ]
  },
  {
   "cell_type": "markdown",
   "metadata": {},
   "source": [
    "### Sets\n",
    "As the name implies, sets are the implementations of mathematical sets. Three key\n",
    "characteristic of set are the following.\n",
    "\n",
    "1. The collection of items is unordered.\n",
    "2. No duplicate items will be stored, which means that each item\n",
    "is unique.\n",
    "3. Sets are mutable, which means the items of it can be changed."
   ]
  },
  {
   "cell_type": "markdown",
   "metadata": {},
   "source": [
    "![11.png](img/11.png)"
   ]
  },
  {
   "cell_type": "markdown",
   "metadata": {},
   "source": [
    "#### Example code for creating sets"
   ]
  },
  {
   "cell_type": "code",
   "execution_count": 10,
   "metadata": {},
   "outputs": [
    {
     "name": "stdout",
     "output_type": "stream",
     "text": [
      "<class 'set'> set()\n",
      "<class 'set'> {'Python', 'R', 'Julia', 'SAS'}\n",
      "<class 'set'> {'Python', 'R', 'Julia', 'SAS'}\n"
     ]
    }
   ],
   "source": [
    "# Creating an empty set\n",
    "languages = set()\n",
    "print (type(languages), languages)\n",
    "\n",
    "languages = {'Python', 'R', 'SAS', 'Julia'}\n",
    "print (type(languages), languages)\n",
    "\n",
    "# set of mixed datatypes\n",
    "mixed_set = {\"Python\", (2.7, 3.4)}\n",
    "print (type(mixed_set), languages)"
   ]
  },
  {
   "cell_type": "markdown",
   "metadata": {},
   "source": [
    "#### Example code for accessing set elements"
   ]
  },
  {
   "cell_type": "code",
   "execution_count": 11,
   "metadata": {},
   "outputs": [
    {
     "name": "stdout",
     "output_type": "stream",
     "text": [
      "Python\n",
      "['Python', 'R', 'Julia']\n"
     ]
    }
   ],
   "source": [
    "print (list(languages)[0])\n",
    "print (list(languages)[0:3])"
   ]
  },
  {
   "cell_type": "markdown",
   "metadata": {},
   "source": [
    "#### Example code for changing set elements"
   ]
  },
  {
   "cell_type": "code",
   "execution_count": 12,
   "metadata": {},
   "outputs": [
    {
     "name": "stdout",
     "output_type": "stream",
     "text": [
      "{'Python', 'R'}\n",
      "{'Python', 'R', 'SAS'}\n",
      "{'R', 'SPSS', 'Julia', 'SAS', 'Python'}\n",
      "{'Machine Learning', 'C', 'R', 'Data Science', 'Java', 'SPSS', 'Julia', 'SAS', 'AI', 'Python'}\n"
     ]
    }
   ],
   "source": [
    "# initialize a set\n",
    "languages = {'Python', 'R'}\n",
    "print(languages)\n",
    "\n",
    "# add an element\n",
    "languages.add('SAS')\n",
    "print(languages)\n",
    "\n",
    "# add multiple elements\n",
    "languages.update(['Julia','SPSS'])\n",
    "print(languages)\n",
    "\n",
    "# add list and set\n",
    "languages.update(['Java','C'], {'Machine Learning','Data Science','AI'})\n",
    "print(languages)"
   ]
  },
  {
   "cell_type": "markdown",
   "metadata": {},
   "source": [
    "#### Example code for removing items from set"
   ]
  },
  {
   "cell_type": "code",
   "execution_count": 13,
   "metadata": {},
   "outputs": [
    {
     "name": "stdout",
     "output_type": "stream",
     "text": [
      "{'Machine Learning', 'C', 'R', 'Data Science', 'Java', 'SPSS', 'Julia', 'SAS', 'Python'}\n",
      "{'Machine Learning', 'C', 'R', 'Data Science', 'Java', 'SPSS', 'Julia', 'SAS', 'Python'}\n",
      "Removed: Machine Learning from {'C', 'R', 'Data Science', 'Java', 'SPSS', 'Julia', 'SAS', 'Python'}\n"
     ]
    }
   ],
   "source": [
    "# remove an element\n",
    "languages.remove('AI')\n",
    "print(languages)\n",
    "\n",
    "# discard an element, although AI has already been removed discard will not throw an error\n",
    "languages.discard('AI')\n",
    "print(languages)\n",
    "\n",
    "# Pop will remove a random item from set\n",
    "print (\"Removed:\", (languages.pop()), \"from\", languages)"
   ]
  },
  {
   "cell_type": "markdown",
   "metadata": {},
   "source": [
    "#### Example code for set union operation"
   ]
  },
  {
   "cell_type": "code",
   "execution_count": 14,
   "metadata": {},
   "outputs": [
    {
     "name": "stdout",
     "output_type": "stream",
     "text": [
      "Union of A | B {1, 2, 3, 4, 5, 6, 7, 8}\n"
     ]
    },
    {
     "data": {
      "text/plain": [
       "{1, 2, 3, 4, 5, 6, 7, 8}"
      ]
     },
     "execution_count": 14,
     "metadata": {},
     "output_type": "execute_result"
    }
   ],
   "source": [
    "# initialize A and B\n",
    "A = {1, 2, 3, 4, 5}\n",
    "B = {4, 5, 6, 7, 8}\n",
    "\n",
    "# use | operator\n",
    "print (\"Union of A | B\", A|B)\n",
    "\n",
    "# alternative we can use union()\n",
    "A.union(B)"
   ]
  },
  {
   "cell_type": "markdown",
   "metadata": {},
   "source": [
    "#### Example code for set intersesction operation"
   ]
  },
  {
   "cell_type": "code",
   "execution_count": 15,
   "metadata": {},
   "outputs": [
    {
     "name": "stdout",
     "output_type": "stream",
     "text": [
      "Intersection of A & B {4, 5}\n",
      "{4, 5}\n"
     ]
    }
   ],
   "source": [
    "# use & operator\n",
    "print (\"Intersection of A & B\", A & B)\n",
    "\n",
    "# alternative we can use intersection()\n",
    "print (A.intersection(B))"
   ]
  },
  {
   "cell_type": "markdown",
   "metadata": {},
   "source": [
    "#### Example code for set difference operation"
   ]
  },
  {
   "cell_type": "code",
   "execution_count": 16,
   "metadata": {},
   "outputs": [
    {
     "name": "stdout",
     "output_type": "stream",
     "text": [
      "Difference of A - B {1, 2, 3}\n",
      "{1, 2, 3}\n"
     ]
    }
   ],
   "source": [
    "# use - operator on A\n",
    "print (\"Difference of A - B\", A - B)\n",
    "# alternative we can use difference()\n",
    "print (A.difference(B))"
   ]
  },
  {
   "cell_type": "markdown",
   "metadata": {},
   "source": [
    "#### Example code for set symmetric difference operation"
   ]
  },
  {
   "cell_type": "code",
   "execution_count": 17,
   "metadata": {},
   "outputs": [
    {
     "name": "stdout",
     "output_type": "stream",
     "text": [
      "Symmetric difference of A ^ B {1, 2, 3, 6, 7, 8}\n"
     ]
    },
    {
     "data": {
      "text/plain": [
       "{1, 2, 3, 6, 7, 8}"
      ]
     },
     "execution_count": 17,
     "metadata": {},
     "output_type": "execute_result"
    }
   ],
   "source": [
    "# use ^ operator\n",
    "print (\"Symmetric difference of A ^ B\", A ^ B)\n",
    "# alternative we can use symmetric_difference()\n",
    "A.symmetric_difference(B)"
   ]
  },
  {
   "cell_type": "markdown",
   "metadata": {},
   "source": [
    "#### Example code for basic operations on sets"
   ]
  },
  {
   "cell_type": "code",
   "execution_count": 18,
   "metadata": {},
   "outputs": [
    {
     "name": "stdout",
     "output_type": "stream",
     "text": [
      "{'C', 'R', 'Data Science', 'Java', 'SPSS', 'Julia', 'SAS', 'Python'}\n",
      "{'C', 'R', 'Data Science', 'Java', 'Julia', 'SAS', 'Python', 'SPSS'}\n",
      "False\n",
      "False\n",
      "False\n",
      "15\n",
      "5\n",
      "1\n",
      "5\n"
     ]
    }
   ],
   "source": [
    "# Return a shallow copy of a set\n",
    "lang = languages.copy()\n",
    "print (languages)\n",
    "print (lang)\n",
    "\n",
    "# initialize A and B\n",
    "A = {1, 2, 3, 4, 5}\n",
    "B = {4, 5, 6, 7, 8}\n",
    "print (A.isdisjoint(B) )# True, when two sets have a null intersection\n",
    "print (A.issubset(B)) # True, when another set contains this set\n",
    "print (A.issuperset(B)) # True, when this set contains another set\n",
    "sorted(B) # Return a new sorted list\n",
    "print (sum(A)) # Retrun the sum of all items\n",
    "print (len(A)) # Return the length\n",
    "print (min(A)) # Return the largestitem\n",
    "print (max(A)) # Return the smallest item"
   ]
  },
  {
   "cell_type": "markdown",
   "metadata": {},
   "source": [
    "### Dictionary\n",
    "The Python dictionary will have a key and value pair for each item that is part of it. The\n",
    "key and value should be enclosed in curly braces. Each key and value is separated using a\n",
    "colon (:), and further each item is separated by commas (,). Note that the keys are unique\n",
    "within a specific dictionary and must be immutable data types such as strings, numbers,\n",
    "or tuples, whereas values can take duplicate data of any type."
   ]
  },
  {
   "cell_type": "markdown",
   "metadata": {},
   "source": [
    "![12.png](img/12.png)"
   ]
  },
  {
   "cell_type": "markdown",
   "metadata": {},
   "source": [
    "#### Example code for creating dictionary"
   ]
  },
  {
   "cell_type": "code",
   "execution_count": 19,
   "metadata": {},
   "outputs": [
    {
     "name": "stdout",
     "output_type": "stream",
     "text": [
      "Sample dictionary:  {'Name': 'Jivin', 'Age': 6, 'Class': 'First'}\n"
     ]
    }
   ],
   "source": [
    "# Creating dictionary\n",
    "dict = {'Name': 'Jivin', 'Age': 6, 'Class': 'First'}\n",
    "print (\"Sample dictionary: \", dict)"
   ]
  },
  {
   "cell_type": "markdown",
   "metadata": {},
   "source": [
    "#### Example code for accessing dictionary"
   ]
  },
  {
   "cell_type": "code",
   "execution_count": 20,
   "metadata": {},
   "outputs": [
    {
     "name": "stdout",
     "output_type": "stream",
     "text": [
      "Value of key Name, from sample dictionary: Jivin\n"
     ]
    }
   ],
   "source": [
    "# Accessing items in dictionary\n",
    "print (\"Value of key Name, from sample dictionary:\", dict['Name'])"
   ]
  },
  {
   "cell_type": "markdown",
   "metadata": {},
   "source": [
    "#### Example for deleting dictionary"
   ]
  },
  {
   "cell_type": "code",
   "execution_count": 21,
   "metadata": {},
   "outputs": [
    {
     "name": "stdout",
     "output_type": "stream",
     "text": [
      "Sample dictionary:  {'Name': 'Jivin', 'Age': 6, 'Class': 'First'}\n",
      "Sample dictionary post deletion of item Name: {'Age': 6, 'Class': 'First'}\n",
      "dict post dict.clear(): {}\n"
     ]
    }
   ],
   "source": [
    "# Deleting a dictionary\n",
    "dict = {'Name': 'Jivin', 'Age': 6, 'Class': 'First'}\n",
    "print (\"Sample dictionary: \", dict)\n",
    "\n",
    "del dict['Name'] # Delete specific item\n",
    "print (\"Sample dictionary post deletion of item Name:\", dict)\n",
    "\n",
    "dict = {'Name': 'Jivin', 'Age': 6, 'Class': 'First'}\n",
    "dict.clear() # Clear all the contents of dictionary\n",
    "print (\"dict post dict.clear():\", dict)\n",
    "dict = {'Name': 'Jivin', 'Age': 6, 'Class': 'First'}\n",
    "del dict # Delete the dictionary"
   ]
  },
  {
   "cell_type": "markdown",
   "metadata": {},
   "source": [
    "#### Example code for updating dictionary"
   ]
  },
  {
   "cell_type": "code",
   "execution_count": 22,
   "metadata": {},
   "outputs": [
    {
     "name": "stdout",
     "output_type": "stream",
     "text": [
      "Sample dictionary:  {'Name': 'Jivin', 'Age': 6, 'Class': 'First'}\n",
      "Dictionary post age value update:  {'Name': 'Jivin', 'Age': 6.5, 'Class': 'First'}\n"
     ]
    }
   ],
   "source": [
    "# Updating dictionary\n",
    "dict = {'Name': 'Jivin', 'Age': 6, 'Class': 'First'}\n",
    "print (\"Sample dictionary: \", dict)\n",
    "\n",
    "dict['Age'] = 6.5\n",
    "print (\"Dictionary post age value update: \", dict)"
   ]
  },
  {
   "cell_type": "markdown",
   "metadata": {},
   "source": [
    "#### Example code for basic operations on dictionary"
   ]
  },
  {
   "cell_type": "code",
   "execution_count": 23,
   "metadata": {},
   "outputs": [
    {
     "name": "stdout",
     "output_type": "stream",
     "text": [
      "Length of dict:  3\n"
     ]
    },
    {
     "ename": "NameError",
     "evalue": "name 'cmp' is not defined",
     "output_type": "error",
     "traceback": [
      "\u001b[1;31m---------------------------------------------------------------------------\u001b[0m",
      "\u001b[1;31mNameError\u001b[0m                                 Traceback (most recent call last)",
      "\u001b[1;32m<ipython-input-23-5abfb5f4b3f6>\u001b[0m in \u001b[0;36m<module>\u001b[1;34m\u001b[0m\n\u001b[0;32m      6\u001b[0m \u001b[0mdict3\u001b[0m \u001b[1;33m=\u001b[0m \u001b[1;33m{\u001b[0m\u001b[1;34m'Name'\u001b[0m\u001b[1;33m:\u001b[0m \u001b[1;34m'Pranuth'\u001b[0m\u001b[1;33m,\u001b[0m \u001b[1;34m'Age'\u001b[0m\u001b[1;33m:\u001b[0m \u001b[1;36m7\u001b[0m\u001b[1;33m}\u001b[0m\u001b[1;33m;\u001b[0m\u001b[1;33m\u001b[0m\u001b[1;33m\u001b[0m\u001b[0m\n\u001b[0;32m      7\u001b[0m \u001b[0mdict4\u001b[0m \u001b[1;33m=\u001b[0m \u001b[1;33m{\u001b[0m\u001b[1;34m'Name'\u001b[0m\u001b[1;33m:\u001b[0m \u001b[1;34m'Jivin'\u001b[0m\u001b[1;33m,\u001b[0m \u001b[1;34m'Age'\u001b[0m\u001b[1;33m:\u001b[0m \u001b[1;36m6\u001b[0m\u001b[1;33m}\u001b[0m\u001b[1;33m;\u001b[0m\u001b[1;33m\u001b[0m\u001b[1;33m\u001b[0m\u001b[0m\n\u001b[1;32m----> 8\u001b[1;33m \u001b[0mprint\u001b[0m \u001b[1;33m(\u001b[0m\u001b[1;34m\"Return Value: dict1 vs dict2\"\u001b[0m\u001b[1;33m,\u001b[0m \u001b[0mcmp\u001b[0m \u001b[1;33m(\u001b[0m\u001b[0mdict1\u001b[0m\u001b[1;33m,\u001b[0m \u001b[0mdict2\u001b[0m\u001b[1;33m)\u001b[0m\u001b[1;33m)\u001b[0m\u001b[1;33m\u001b[0m\u001b[1;33m\u001b[0m\u001b[0m\n\u001b[0m\u001b[0;32m      9\u001b[0m \u001b[0mprint\u001b[0m \u001b[1;33m(\u001b[0m\u001b[1;34m\"Return Value: dict2 vs dict3\"\u001b[0m\u001b[1;33m,\u001b[0m \u001b[0mcmp\u001b[0m \u001b[1;33m(\u001b[0m\u001b[0mdict2\u001b[0m\u001b[1;33m,\u001b[0m \u001b[0mdict3\u001b[0m\u001b[1;33m)\u001b[0m\u001b[1;33m)\u001b[0m\u001b[1;33m\u001b[0m\u001b[1;33m\u001b[0m\u001b[0m\n\u001b[0;32m     10\u001b[0m \u001b[0mprint\u001b[0m \u001b[1;33m(\u001b[0m\u001b[1;34m\"Return Value: dict1 vs dict4\"\u001b[0m\u001b[1;33m,\u001b[0m \u001b[0mcmp\u001b[0m \u001b[1;33m(\u001b[0m\u001b[0mdict1\u001b[0m\u001b[1;33m,\u001b[0m \u001b[0mdict4\u001b[0m\u001b[1;33m)\u001b[0m\u001b[1;33m)\u001b[0m\u001b[1;33m\u001b[0m\u001b[1;33m\u001b[0m\u001b[0m\n",
      "\u001b[1;31mNameError\u001b[0m: name 'cmp' is not defined"
     ]
    }
   ],
   "source": [
    "# Basic operations\n",
    "dict = {'Name': 'Jivin', 'Age': 6, 'Class': 'First'}\n",
    "print (\"Length of dict: \", len(dict))\n",
    "dict1 = {'Name': 'Jivin', 'Age': 6};\n",
    "dict2 = {'Name': 'Pratham', 'Age': 7};\n",
    "dict3 = {'Name': 'Pranuth', 'Age': 7};\n",
    "dict4 = {'Name': 'Jivin', 'Age': 6};\n",
    "print (\"Return Value: dict1 vs dict2\", cmp (dict1, dict2))\n",
    "print (\"Return Value: dict2 vs dict3\", cmp (dict2, dict3))\n",
    "print (\"Return Value: dict1 vs dict4\", cmp (dict1, dict4))"
   ]
  },
  {
   "cell_type": "code",
   "execution_count": 25,
   "metadata": {},
   "outputs": [
    {
     "name": "stdout",
     "output_type": "stream",
     "text": [
      "Equivalent String:  {'Name': 'Jivin', 'Age': 6}\n",
      "{'Name': 'Jivin', 'Age': 6}\n",
      "New Dictionary:  {'name': None, 'age': None, 'sex': None}\n",
      "New Dictionary:  {'name': 10, 'age': 10, 'sex': 10}\n",
      "Value for Age:  6\n",
      "Value for Education:  First Grade\n"
     ]
    },
    {
     "ename": "AttributeError",
     "evalue": "'dict' object has no attribute 'has_key'",
     "output_type": "error",
     "traceback": [
      "\u001b[1;31m---------------------------------------------------------------------------\u001b[0m",
      "\u001b[1;31mAttributeError\u001b[0m                            Traceback (most recent call last)",
      "\u001b[1;32m<ipython-input-25-f033962b2da0>\u001b[0m in \u001b[0;36m<module>\u001b[1;34m\u001b[0m\n\u001b[0;32m     22\u001b[0m \u001b[1;33m\u001b[0m\u001b[0m\n\u001b[0;32m     23\u001b[0m \u001b[1;31m# Check if key in dictionary\u001b[0m\u001b[1;33m\u001b[0m\u001b[1;33m\u001b[0m\u001b[1;33m\u001b[0m\u001b[0m\n\u001b[1;32m---> 24\u001b[1;33m \u001b[0mprint\u001b[0m \u001b[1;33m(\u001b[0m\u001b[1;34m\"Age exists? \"\u001b[0m\u001b[1;33m,\u001b[0m \u001b[0mdict\u001b[0m\u001b[1;33m.\u001b[0m\u001b[0mhas_key\u001b[0m\u001b[1;33m(\u001b[0m\u001b[1;34m'Age'\u001b[0m\u001b[1;33m)\u001b[0m\u001b[1;33m)\u001b[0m\u001b[1;33m\u001b[0m\u001b[1;33m\u001b[0m\u001b[0m\n\u001b[0m\u001b[0;32m     25\u001b[0m \u001b[0mprint\u001b[0m \u001b[1;33m(\u001b[0m\u001b[1;34m\"Sex exists? \"\u001b[0m\u001b[1;33m,\u001b[0m \u001b[0mdict\u001b[0m\u001b[1;33m.\u001b[0m\u001b[0mhas_key\u001b[0m\u001b[1;33m(\u001b[0m\u001b[1;34m'Sex'\u001b[0m\u001b[1;33m)\u001b[0m\u001b[1;33m)\u001b[0m\u001b[1;33m\u001b[0m\u001b[1;33m\u001b[0m\u001b[0m\n\u001b[0;32m     26\u001b[0m \u001b[1;33m\u001b[0m\u001b[0m\n",
      "\u001b[1;31mAttributeError\u001b[0m: 'dict' object has no attribute 'has_key'"
     ]
    }
   ],
   "source": [
    "# String representation of dictionary\n",
    "dict = {'Name': 'Jivin', 'Age': 6}\n",
    "print (\"Equivalent String: \", str (dict))\n",
    "\n",
    "# Copy the dict\n",
    "dict1 = dict.copy()\n",
    "print (dict1)\n",
    "\n",
    "# Create new dictionary with keys from tuple and values to set value\n",
    "seq = ('name', 'age', 'sex')\n",
    "dict = dict.fromkeys(seq)\n",
    "print (\"New Dictionary: \", str(dict))\n",
    "dict = dict.fromkeys(seq, 10)\n",
    "print (\"New Dictionary: \", str(dict))\n",
    "\n",
    "# Retrieve value for a given key\n",
    "dict = {'Name': 'Jivin', 'Age': 6};\n",
    "print (\"Value for Age: \", dict.get('Age'))\n",
    "\n",
    "# Since the key Education does not exist, the second argument will be returned\n",
    "print (\"Value for Education: \", dict.get('Education', \"First Grade\"))\n",
    "\n",
    "# Check if key in dictionary\n",
    "print (\"Age exists? \", dict.has_key('Age'))\n",
    "print (\"Sex exists? \", dict.has_key('Sex'))\n",
    "\n",
    "# Return items of dictionary\n",
    "print (\"dict items: \", dict.items())\n",
    "\n",
    "# Return items of keys\n",
    "print (\"dict keys: \", dict.keys())\n",
    "\n",
    "# return values of dict\n",
    "print (\"Value of dict: \", dict.values())\n",
    "\n",
    "# if key does not exists, then the arguments will be added to dict and returned\n",
    "print (\"Value for Age : \", dict.setdefault('Age', None))\n",
    "print (\"Value for Sex: \", dict.setdefault('Sex', None))\n",
    "\n",
    "# Concatenate dicts\n",
    "dict = {'Name': 'Jivin', 'Age': 6}\n",
    "dict2 = {'Sex': 'male' }\n",
    "dict.update(dict2)\n",
    "print (\"dict.update(dict2) = \", dict)"
   ]
  }
 ],
 "metadata": {
  "kernelspec": {
   "display_name": "Python 3",
   "language": "python",
   "name": "python3"
  },
  "language_info": {
   "codemirror_mode": {
    "name": "ipython",
    "version": 3
   },
   "file_extension": ".py",
   "mimetype": "text/x-python",
   "name": "python",
   "nbconvert_exporter": "python",
   "pygments_lexer": "ipython3",
   "version": "3.7.4"
  }
 },
 "nbformat": 4,
 "nbformat_minor": 2
}
