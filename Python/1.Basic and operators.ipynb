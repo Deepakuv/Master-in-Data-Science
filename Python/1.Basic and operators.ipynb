{
 "cells": [
  {
   "cell_type": "markdown",
   "metadata": {},
   "source": [
    "### Check the versions of libraries"
   ]
  },
  {
   "cell_type": "code",
   "execution_count": 1,
   "metadata": {},
   "outputs": [
    {
     "name": "stdout",
     "output_type": "stream",
     "text": [
      "Python: 3.7.4 (default, Aug  9 2019, 18:34:13) [MSC v.1915 64 bit (AMD64)]\n"
     ]
    }
   ],
   "source": [
    "# Python version\n",
    "import sys\n",
    "print('Python: {}'.format(sys.version))"
   ]
  },
  {
   "cell_type": "markdown",
   "metadata": {},
   "source": [
    "#### 1-1. Example of correct indentation"
   ]
  },
  {
   "cell_type": "code",
   "execution_count": 2,
   "metadata": {},
   "outputs": [
    {
     "name": "stdout",
     "output_type": "stream",
     "text": [
      "Programming is an important skill for Data Science\n",
      "Statistics is a important skill for Data Science\n",
      "Business domain knowledge is a important skill for Data Science\n",
      "x has a value of 1\n"
     ]
    }
   ],
   "source": [
    "# Correct indentation\n",
    "print (\"Programming is an important skill for Data Science\")\n",
    "print (\"Statistics is a important skill for Data Science\")\n",
    "print (\"Business domain knowledge is a important skill for Data Science\")\n",
    "\n",
    "# Correct indentation, note that if statement here is an example of suites\n",
    "x = 1\n",
    "if x == 1:\n",
    "    print ('x has a value of 1')\n",
    "else:\n",
    "    print ('x does NOT have a value of 1')"
   ]
  },
  {
   "cell_type": "markdown",
   "metadata": {},
   "source": [
    "#### 1-2. Example of incorrect indentation"
   ]
  },
  {
   "cell_type": "code",
   "execution_count": 3,
   "metadata": {},
   "outputs": [
    {
     "name": "stdout",
     "output_type": "stream",
     "text": [
      "Programming is an important skill for Dabata Science \n",
      "\n",
      "Statistics is a important skill for Data Science \n",
      "\n",
      "Business domain knowledge is a important skill for Data Science \n",
      "\n",
      "x has a value of 1\n"
     ]
    }
   ],
   "source": [
    "# incorrect indentation, program will generate a syntax error\n",
    "# due to the space character inserted at the beginning of second line\n",
    "print (\"Programming is an important skill for Dabata Science\", '\\n' )\n",
    "print (\"Statistics is a important skill for Data Science\", '\\n' )\n",
    "print (\"Business domain knowledge is a important skill for Data Science\",'\\n' )\n",
    "3\n",
    "# incorrect indentation, program will generate a syntax error\n",
    "# due to the wrong indentation in the else statement\n",
    "x = 1\n",
    "if x == 1:\n",
    "    print ('x has a value of 1')\n",
    "else:\n",
    "    print ('x does NOT have a value of 1')\n"
   ]
  },
  {
   "cell_type": "markdown",
   "metadata": {},
   "source": [
    "### When to Use List vs. Tuples vs. Set vs. Dictionary\n",
    "\n",
    "• List: Use when you need an ordered sequence of homogenous\n",
    "collections, whose values can be changed later in the program.\n",
    "\n",
    "• Tuple: Use when you need an ordered sequence of heterogeneous\n",
    "collections whose values need not be changed later in the\n",
    "program.\n",
    "\n",
    "• Set: It is ideal for use when you don’t have to store duplicates and\n",
    "you are not concerned about the order or the items. You just want\n",
    "to know whether a particular value already exists or not.\n",
    "\n",
    "• Dictionary: It is ideal for use when you need to relate values with\n",
    "keys, in order to look them up efficiently using a key."
   ]
  },
  {
   "cell_type": "markdown",
   "metadata": {},
   "source": [
    "#### 1-3. Code For Basic Object Types"
   ]
  },
  {
   "attachments": {},
   "cell_type": "markdown",
   "metadata": {},
   "source": [
    "![1.png](img/1.png)"
   ]
  },
  {
   "cell_type": "code",
   "execution_count": 4,
   "metadata": {},
   "outputs": [
    {
     "name": "stdout",
     "output_type": "stream",
     "text": [
      "<class 'NoneType'> None\n",
      "<class 'bool'> True\n",
      "<class 'int'> 1\n",
      "<class 'float'> 3.14\n",
      "<class 'float'> 3.14\n",
      "<class 'float'> inf\n",
      "<class 'float'> nan\n",
      "<class 'complex'> (2+8j)\n",
      "<class 'str'> this is a string\n",
      "<class 'str'> also me\n",
      "<class 'tuple'> (1, True, 'ML')\n",
      "<class 'list'> [1, True, 'ML']\n",
      "<class 'set'> {1, 2, 3, 4, 5}\n",
      "<class 'dict'> {'a': 'A', 2: 'AA', True: 1, False: 0}\n"
     ]
    }
   ],
   "source": [
    "none = None # singleton null object\n",
    "boolean = bool(True)\n",
    "integer = 1\n",
    "Long = 3.14\n",
    "\n",
    "# float\n",
    "Float = 3.14\n",
    "Float_inf = float('inf')\n",
    "Float_nan = float('nan')\n",
    "\n",
    "# complex object type, note the usage of letter j\n",
    "Complex = 2+8j\n",
    "\n",
    "# string can be enclosed in single or double quote\n",
    "string = 'this is a string'\n",
    "me_also_string = \"also me\"\n",
    "List = [1, True, 'ML'] # Values can be changed\n",
    "Tuple = (1, True, 'ML') # Values can not be changed\n",
    "Set = set([1,2,2,2,3,4,5,5]) # Duplicates will not be stored\n",
    "\n",
    "# Use a dictionary when you have a set of unique keys that map to values\n",
    "Dictionary = {'a':'A', 2:'AA', True:1, False:0}\n",
    "\n",
    "# lets print the object type and the value\n",
    "print (type(none), none)\n",
    "print (type(boolean), boolean)\n",
    "print (type(integer), integer)\n",
    "print (type(Long), Long)\n",
    "print (type(Float), Float)\n",
    "print (type(Float_inf), Float_inf)\n",
    "print (type(Float_nan), Float_nan)\n",
    "print (type(Complex), Complex)\n",
    "print (type(string), string)\n",
    "print (type(me_also_string), me_also_string)\n",
    "print (type(Tuple), Tuple)\n",
    "print (type(List), List)\n",
    "print (type(Set), Set)\n",
    "print (type(Dictionary), Dictionary)\n"
   ]
  },
  {
   "cell_type": "markdown",
   "metadata": {},
   "source": [
    "#### 1-4. Example code for comments"
   ]
  },
  {
   "cell_type": "code",
   "execution_count": 5,
   "metadata": {},
   "outputs": [
    {
     "name": "stdout",
     "output_type": "stream",
     "text": [
      "Hello Python World\n"
     ]
    },
    {
     "data": {
      "text/plain": [
       "' This is an example of a multi line comment that runs into multiple lines. \\nEverything that is in between is considered as comments \\n'"
      ]
     },
     "execution_count": 5,
     "metadata": {},
     "output_type": "execute_result"
    }
   ],
   "source": [
    "# This is a single line comment in Python\n",
    "print (\"Hello Python World\") # This is also a single line comment in Python\n",
    "\"\"\" This is an example of a multi line comment that runs into multiple lines. \n",
    "Everything that is in between is considered as comments \n",
    "\"\"\""
   ]
  },
  {
   "cell_type": "markdown",
   "metadata": {},
   "source": [
    "#### 1-5. Example code for multiline statements"
   ]
  },
  {
   "cell_type": "code",
   "execution_count": 6,
   "metadata": {},
   "outputs": [
    {
     "name": "stdout",
     "output_type": "stream",
     "text": [
      "x has a value of 1234\n",
      "y has a value of 121112\n",
      "days\n",
      "weekend\n"
     ]
    }
   ],
   "source": [
    "# Example of implicit line continuation\n",
    "x = ('1' + '2' +\n",
    "'3' + '4')\n",
    "\n",
    "# Example of explicit line continuation\n",
    "y = '1' + '2' + \\\n",
    "'11' + '12'\n",
    "weekdays = ['Monday', 'Tuesday', 'Wednesday',\n",
    "'Thursday', 'Friday']\n",
    "weekend = {'Saturday',\n",
    "'Sunday'}\n",
    "\n",
    "print ('x has a value of', x)\n",
    "print ('y has a value of', y)\n",
    "print (\"days\")\n",
    "print (\"weekend\")"
   ]
  },
  {
   "cell_type": "markdown",
   "metadata": {},
   "source": [
    "#### 1-6. Code example for multistatements on a single line"
   ]
  },
  {
   "cell_type": "code",
   "execution_count": 7,
   "metadata": {},
   "outputs": [
    {
     "name": "stdout",
     "output_type": "stream",
     "text": [
      "x\n"
     ]
    }
   ],
   "source": [
    "import os; x = 'Hello';print (\"x\")"
   ]
  },
  {
   "cell_type": "markdown",
   "metadata": {},
   "source": [
    "#### 1-7. Example code for arithmetic operators"
   ]
  },
  {
   "attachments": {},
   "cell_type": "markdown",
   "metadata": {},
   "source": [
    "![2.png](img/2.png)"
   ]
  },
  {
   "cell_type": "code",
   "execution_count": 8,
   "metadata": {},
   "outputs": [
    {
     "name": "stdout",
     "output_type": "stream",
     "text": [
      "Addition, x(10) + y(5) =  15\n",
      "Subtraction, x(10) - y(5) =  5\n",
      "Multiplication, x(10) * y(5) =  50\n",
      "Division, x(10) / y(5) =  2.0\n",
      "Modulus, x(10) % y(5) =  0\n",
      "Exponent, x(10)**y(5) =  100000\n",
      "Floor Division, x(10)//y(5) =  2\n"
     ]
    }
   ],
   "source": [
    "# Variable x holds 10 and variable y holds 5\n",
    "x = 10\n",
    "y = 5\n",
    "\n",
    "# Addition\n",
    "print (\"Addition, x(10) + y(5) = \", x + y)\n",
    "\n",
    "# Subtraction\n",
    "print (\"Subtraction, x(10) - y(5) = \", x - y)\n",
    "\n",
    "# Multiplication\n",
    "print (\"Multiplication, x(10) * y(5) = \", x * y)\n",
    "\n",
    "# Division\n",
    "print (\"Division, x(10) / y(5) = \",x / y)\n",
    "\n",
    "# Modulus\n",
    "print (\"Modulus, x(10) % y(5) = \", x % y)\n",
    "\n",
    "# Exponent\n",
    "print (\"Exponent, x(10)**y(5) = \", x**y)\n",
    "\n",
    "# Integer division rounded towards minus infinity\n",
    "print (\"Floor Division, x(10)//y(5) = \", x//y)"
   ]
  },
  {
   "cell_type": "markdown",
   "metadata": {},
   "source": [
    "#### 1-8. Example code for comparision/relational operators"
   ]
  },
  {
   "attachments": {},
   "cell_type": "markdown",
   "metadata": {},
   "source": [
    "![3.png](img/3.png)"
   ]
  },
  {
   "cell_type": "code",
   "execution_count": 9,
   "metadata": {},
   "outputs": [
    {
     "name": "stdout",
     "output_type": "stream",
     "text": [
      "Equal check, x(10) == y(5)  False\n",
      "Not Equal check, x(10) != y(5)  True\n",
      "Less than check, x(10) <y(5)  False\n",
      "Greater than check, x(10) >y(5)  True\n",
      "Less than or equal to check, x(10) <= y(5)  False\n",
      "Greater than or equal to check, x(10) >= y(5)  True\n"
     ]
    }
   ],
   "source": [
    "# Variable x holds 10 and variable y holds 5\n",
    "x = 10\n",
    "y = 5\n",
    "\n",
    "# Equal check operation\n",
    "print (\"Equal check, x(10) == y(5) \", x == y)\n",
    "\n",
    "# Not Equal check operation\n",
    "print (\"Not Equal check, x(10) != y(5) \", x != y)\n",
    "\n",
    "# Not Equal check operation\n",
    "#print (\"Not Equal check, x(10) <>y(5) \", x<>y)\n",
    "\n",
    "# Less than check operation\n",
    "print (\"Less than check, x(10) <y(5) \", x<y)\n",
    "\n",
    "# Greater check operation\n",
    "print (\"Greater than check, x(10) >y(5) \", x>y)\n",
    "\n",
    "# Less than or equal check operation\n",
    "print (\"Less than or equal to check, x(10) <= y(5) \", x<= y)\n",
    "\n",
    "# Greater than or equal to check operation\n",
    "print (\"Greater than or equal to check, x(10) >= y(5) \", x>= y)"
   ]
  },
  {
   "cell_type": "markdown",
   "metadata": {},
   "source": [
    "#### 1-9. Example code for assignment operators"
   ]
  },
  {
   "attachments": {},
   "cell_type": "markdown",
   "metadata": {},
   "source": [
    "![4.png](img/4.png)"
   ]
  },
  {
   "cell_type": "code",
   "execution_count": 10,
   "metadata": {},
   "outputs": [
    {
     "name": "stdout",
     "output_type": "stream",
     "text": [
      "Value of a post x+=y is  15\n",
      "Value of a post x*=y is  150\n",
      "Value of a post x/=y is  15.0\n",
      "Value of a post x%=y is  5.0\n",
      "Value of x post x**=y is  9765625.0\n",
      "Value of a post x//=y is  976562.0\n"
     ]
    }
   ],
   "source": [
    "# Variable x holds 10 and variable y holds 5\n",
    "x = 5\n",
    "y = 10\n",
    "x += y\n",
    "print (\"Value of a post x+=y is \", x)\n",
    "\n",
    "x *= y\n",
    "print (\"Value of a post x*=y is \", x)\n",
    "\n",
    "x /= y\n",
    "print (\"Value of a post x/=y is \", x)\n",
    "\n",
    "x %= y\n",
    "print (\"Value of a post x%=y is \", x)\n",
    "\n",
    "x **= y\n",
    "print (\"Value of x post x**=y is \", x)\n",
    "\n",
    "x //= y\n",
    "print (\"Value of a post x//=y is \", x)"
   ]
  },
  {
   "cell_type": "markdown",
   "metadata": {},
   "source": [
    "#### 1-10. Example code for bitwise operators"
   ]
  },
  {
   "attachments": {},
   "cell_type": "markdown",
   "metadata": {},
   "source": [
    "![5.png](img/5.png)"
   ]
  },
  {
   "cell_type": "code",
   "execution_count": 11,
   "metadata": {},
   "outputs": [
    {
     "name": "stdout",
     "output_type": "stream",
     "text": [
      "0\n",
      "160\n",
      "0\n",
      "14\n",
      "14\n",
      "-11\n"
     ]
    }
   ],
   "source": [
    "# Basic six bitwise operations\n",
    "# Let x = 10 (in binary0000 1010) and y = 4 (in binary0000 0100)\n",
    "x = 10\n",
    "y = 4\n",
    "print (x >> y )# Right Shift\n",
    "print (x << y) # Left Shift\n",
    "print (x & y) # Bitwise AND\n",
    "print (x | y) # Bitwise OR\n",
    "print (x ^ y) # Bitwise XOR\n",
    "print (~x) # Bitwise NOT"
   ]
  },
  {
   "cell_type": "markdown",
   "metadata": {},
   "source": [
    "#### 1-11. Example code for logical operators"
   ]
  },
  {
   "attachments": {},
   "cell_type": "markdown",
   "metadata": {},
   "source": [
    "![6.png](img/6.png)"
   ]
  },
  {
   "cell_type": "code",
   "execution_count": 12,
   "metadata": {},
   "outputs": [
    {
     "name": "stdout",
     "output_type": "stream",
     "text": [
      "var1 and var2 is False\n",
      "var1 or var2 is True\n",
      "not var1 is False\n"
     ]
    }
   ],
   "source": [
    "var1 = True\n",
    "var2 = False\n",
    "print('var1 and var2 is',var1 and var2)\n",
    "print('var1 or var2 is',var1 or var2)\n",
    "print('not var1 is',not var1)"
   ]
  }
 ],
 "metadata": {
  "kernelspec": {
   "display_name": "Python 3",
   "language": "python",
   "name": "python3"
  },
  "language_info": {
   "codemirror_mode": {
    "name": "ipython",
    "version": 3
   },
   "file_extension": ".py",
   "mimetype": "text/x-python",
   "name": "python",
   "nbconvert_exporter": "python",
   "pygments_lexer": "ipython3",
   "version": "3.7.4"
  }
 },
 "nbformat": 4,
 "nbformat_minor": 2
}
