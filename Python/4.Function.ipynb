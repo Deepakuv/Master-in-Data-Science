{
 "cells": [
  {
   "cell_type": "markdown",
   "metadata": {},
   "source": [
    "### Defining a Function\n",
    "Functions need to be defined, and below is the set of rules to be followed to define a\n",
    "function in Python.\n",
    "\n",
    "• The keyword def denotes the beginning of a function block, which\n",
    "will be followed by the name of the function and open, close\n",
    "parentheses. After this a colon (:) to be put to indicate the end of\n",
    "the function header.\n",
    "\n",
    "• Functions can accept arguments or parameters. Any such\n",
    "input arguments or parameters should be placed within the\n",
    "parentheses in the header of the parameter.\n",
    "\n",
    "• The main code statements are to be put below the function\n",
    "header and should be indented, which indicates that the code is\n",
    "part of the same function.\n",
    "\n",
    "• Functions can return an expression to the caller. If return method\n",
    "is not used at the end of the function, it will act as a subprocedure.\n",
    "The key difference between the function and the subprocedure\n",
    "is that a function will always return expression whereas a\n",
    "subprocedure will not."
   ]
  },
  {
   "attachments": {},
   "cell_type": "markdown",
   "metadata": {},
   "source": [
    "![13.png](img/13.png)"
   ]
  },
  {
   "cell_type": "markdown",
   "metadata": {},
   "source": [
    "#### Example code for creating functions without argument"
   ]
  },
  {
   "cell_type": "code",
   "execution_count": 1,
   "metadata": {},
   "outputs": [
    {
     "name": "stdout",
     "output_type": "stream",
     "text": [
      "Hello World\n"
     ]
    }
   ],
   "source": [
    "# Simple function\n",
    "def someFunction():\n",
    "    print (\"Hello World\")\n",
    "\n",
    "# Call the function\n",
    "someFunction()"
   ]
  },
  {
   "attachments": {},
   "cell_type": "markdown",
   "metadata": {},
   "source": [
    "![14.png](img/14.png)"
   ]
  },
  {
   "cell_type": "markdown",
   "metadata": {},
   "source": [
    "#### Example code for creating functions with arguments"
   ]
  },
  {
   "cell_type": "code",
   "execution_count": 2,
   "metadata": {},
   "outputs": [
    {
     "name": "stdout",
     "output_type": "stream",
     "text": [
      "3\n"
     ]
    }
   ],
   "source": [
    "# Simple function to add two numbers\n",
    "def sum_two_numbers(x, y):\n",
    "    return x + y\n",
    "\n",
    "# after this line x will hold the value 3\n",
    "print (sum_two_numbers(1,2))"
   ]
  },
  {
   "cell_type": "markdown",
   "metadata": {},
   "source": [
    "### Scope of Variables\n",
    "The availability of a variable or identifier within the program during and after the\n",
    "execution is determined by the scope of a variable. There are two fundamental variable\n",
    "scopes in Python.\n",
    "\n",
    "1. Global variables\n",
    "2. Local variables"
   ]
  },
  {
   "cell_type": "markdown",
   "metadata": {},
   "source": [
    "#### Example code for defining variable scopes"
   ]
  },
  {
   "cell_type": "code",
   "execution_count": 3,
   "metadata": {},
   "outputs": [
    {
     "name": "stdout",
     "output_type": "stream",
     "text": [
      "20\n"
     ]
    }
   ],
   "source": [
    "# Global variable\n",
    "x = 10\n",
    "\n",
    "# Simple function to add two numbers\n",
    "def sum_two_numbers(y):\n",
    "    return x + y\n",
    "\n",
    "# Call the function and print result\n",
    "print (sum_two_numbers(10))"
   ]
  },
  {
   "cell_type": "markdown",
   "metadata": {},
   "source": [
    "#### Example code for function with default argument"
   ]
  },
  {
   "cell_type": "code",
   "execution_count": 4,
   "metadata": {},
   "outputs": [
    {
     "name": "stdout",
     "output_type": "stream",
     "text": [
      "20\n",
      "15\n"
     ]
    }
   ],
   "source": [
    "# Simple function to add two number with b having default value of 10\n",
    "def sum_two_numbers(x, y = 10):\n",
    "    return x + y\n",
    "# Call the function and print result\n",
    "print (sum_two_numbers(10))\n",
    "print (sum_two_numbers(10, 5))\n"
   ]
  },
  {
   "cell_type": "markdown",
   "metadata": {},
   "source": [
    "#### Example code for passing argumens as *args"
   ]
  },
  {
   "cell_type": "code",
   "execution_count": 5,
   "metadata": {},
   "outputs": [
    {
     "name": "stdout",
     "output_type": "stream",
     "text": [
      "1\n",
      "2\n",
      "3\n"
     ]
    }
   ],
   "source": [
    "# Simple function to loop through arguments and print them\n",
    "def sample_function(*args):\n",
    "    for a in args:\n",
    "        print (a)\n",
    "\n",
    "# Call the function\n",
    "sample_function(1,2,3)"
   ]
  },
  {
   "cell_type": "markdown",
   "metadata": {},
   "source": [
    "#### Example code for passing argumens as **kwargs"
   ]
  },
  {
   "cell_type": "code",
   "execution_count": 6,
   "metadata": {},
   "outputs": [
    {
     "name": "stdout",
     "output_type": "stream",
     "text": [
      "name John\n",
      "age 27\n"
     ]
    }
   ],
   "source": [
    "# Simple function to loop through arguments and print them\n",
    "def sample_function(**kwargs):\n",
    "    for a in kwargs:\n",
    "        print (a, kwargs[a])\n",
    "\n",
    "# Call the function\n",
    "sample_function(name='John', age=27)"
   ]
  }
 ],
 "metadata": {
  "kernelspec": {
   "display_name": "Python 3",
   "language": "python",
   "name": "python3"
  },
  "language_info": {
   "codemirror_mode": {
    "name": "ipython",
    "version": 3
   },
   "file_extension": ".py",
   "mimetype": "text/x-python",
   "name": "python",
   "nbconvert_exporter": "python",
   "pygments_lexer": "ipython3",
   "version": "3.7.4"
  }
 },
 "nbformat": 4,
 "nbformat_minor": 2
}
